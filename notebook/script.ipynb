{
 "cells": [
  {
   "cell_type": "code",
   "execution_count": 148,
   "metadata": {
    "collapsed": true
   },
   "outputs": [],
   "source": [
    "import sys\n",
    "\n",
    "import pandas as pd\n",
    "import numpy as np\n",
    "import matplotlib.pyplot as plt\n",
    "import seaborn as sns"
   ]
  },
  {
   "cell_type": "markdown",
   "source": [
    "# Data Covid"
   ],
   "metadata": {
    "collapsed": false
   }
  },
  {
   "cell_type": "code",
   "source": [
    "df = pd.read_csv('../data/covid_data.csv' , sep = ';', on_bad_lines='skip').sample(frac=1)"
   ],
   "metadata": {
    "collapsed": false,
    "pycharm": {
     "name": "#%%\n"
    }
   },
   "execution_count": 149,
   "outputs": [
    {
     "name": "stderr",
     "output_type": "stream",
     "text": [
      "C:\\Users\\cassi\\AppData\\Local\\Temp\\ipykernel_6960\\1351223911.py:1: DtypeWarning:\n",
      "\n",
      "Columns (6) have mixed types. Specify dtype option on import or set low_memory=False.\n",
      "\n"
     ]
    }
   ]
  },
  {
   "cell_type": "code",
   "execution_count": 150,
   "outputs": [
    {
     "data": {
      "text/plain": "             data_publicacao recuperados data_inicio_sintomas data_coleta  \\\n250719   2022-03-28 16:00:08         SIM           2022-02-22    IGNORADO   \n289946   2022-03-28 16:00:08         SIM           2020-11-06  2020-11-11   \n878035   2022-03-28 16:00:08         SIM           2020-07-23  2020-07-23   \n1570516  2022-03-28 16:00:08         SIM           2021-01-08  2021-01-08   \n12475    2022-03-28 16:00:08         SIM           2020-07-12  2020-07-21   \n\n                             sintomas comorbidades gestante     internacao  \\\n250719                          FEBRE          NaN      NaN  NAO INTERNADO   \n289946   TOSSE, CANSACO, DOR NO CORPO          NaN      NaN  NAO INTERNADO   \n878035                          TOSSE          NaN      NaN  NAO INTERNADO   \n1570516                           NaN          NaN      NaN  NAO INTERNADO   \n12475             TOSSE, DOR NO CORPO          NaN      NaN  NAO INTERNADO   \n\n            internacao_uti       sexo  ... origem_laboratorio_privado  \\\n250719   NAO INTERNADO UTI  MASCULINO  ...                        NAO   \n289946   NAO INTERNADO UTI   FEMININO  ...                        NAO   \n878035   NAO INTERNADO UTI  MASCULINO  ...                        SIM   \n1570516  NAO INTERNADO UTI   FEMININO  ...                        NAO   \n12475    NAO INTERNADO UTI   FEMININO  ...                        NAO   \n\n                               nom_laboratorio fez_teste_rapido  fez_pcr  \\\n250719                                     NaN              NAO      NAO   \n289946                                   LACEN              NAO      SIM   \n878035   LABORATORIO MEDICO SANTA LUZIA MATRIZ              NAO      SIM   \n1570516                                    NaN              SIM      NAO   \n12475                                      NaN              SIM      NAO   \n\n        data_internacao data_entrada_uti             regional_saude  \\\n250719              NaN              NaN       MEDIO VALE DO ITAJAI   \n289946              NaN              NaN                      OESTE   \n878035              NaN              NaN       GRANDE FLORIANOPOLIS   \n1570516             NaN              NaN  ALTO VALE DO RIO DO PEIXE   \n12475               NaN              NaN                CARBONIFERA   \n\n         data_evolucao_caso  data_saida_uti         bairro  \n250719                  NaN             NaN  VELHA CENTRAL  \n289946                  NaN             NaN            NaN  \n878035                  NaN             NaN     FORQUILHAS  \n1570516                 NaN             NaN            NaN  \n12475                   NaN             NaN            NaN  \n\n[5 rows x 41 columns]",
      "text/html": "<div>\n<style scoped>\n    .dataframe tbody tr th:only-of-type {\n        vertical-align: middle;\n    }\n\n    .dataframe tbody tr th {\n        vertical-align: top;\n    }\n\n    .dataframe thead th {\n        text-align: right;\n    }\n</style>\n<table border=\"1\" class=\"dataframe\">\n  <thead>\n    <tr style=\"text-align: right;\">\n      <th></th>\n      <th>data_publicacao</th>\n      <th>recuperados</th>\n      <th>data_inicio_sintomas</th>\n      <th>data_coleta</th>\n      <th>sintomas</th>\n      <th>comorbidades</th>\n      <th>gestante</th>\n      <th>internacao</th>\n      <th>internacao_uti</th>\n      <th>sexo</th>\n      <th>...</th>\n      <th>origem_laboratorio_privado</th>\n      <th>nom_laboratorio</th>\n      <th>fez_teste_rapido</th>\n      <th>fez_pcr</th>\n      <th>data_internacao</th>\n      <th>data_entrada_uti</th>\n      <th>regional_saude</th>\n      <th>data_evolucao_caso</th>\n      <th>data_saida_uti</th>\n      <th>bairro</th>\n    </tr>\n  </thead>\n  <tbody>\n    <tr>\n      <th>250719</th>\n      <td>2022-03-28 16:00:08</td>\n      <td>SIM</td>\n      <td>2022-02-22</td>\n      <td>IGNORADO</td>\n      <td>FEBRE</td>\n      <td>NaN</td>\n      <td>NaN</td>\n      <td>NAO INTERNADO</td>\n      <td>NAO INTERNADO UTI</td>\n      <td>MASCULINO</td>\n      <td>...</td>\n      <td>NAO</td>\n      <td>NaN</td>\n      <td>NAO</td>\n      <td>NAO</td>\n      <td>NaN</td>\n      <td>NaN</td>\n      <td>MEDIO VALE DO ITAJAI</td>\n      <td>NaN</td>\n      <td>NaN</td>\n      <td>VELHA CENTRAL</td>\n    </tr>\n    <tr>\n      <th>289946</th>\n      <td>2022-03-28 16:00:08</td>\n      <td>SIM</td>\n      <td>2020-11-06</td>\n      <td>2020-11-11</td>\n      <td>TOSSE, CANSACO, DOR NO CORPO</td>\n      <td>NaN</td>\n      <td>NaN</td>\n      <td>NAO INTERNADO</td>\n      <td>NAO INTERNADO UTI</td>\n      <td>FEMININO</td>\n      <td>...</td>\n      <td>NAO</td>\n      <td>LACEN</td>\n      <td>NAO</td>\n      <td>SIM</td>\n      <td>NaN</td>\n      <td>NaN</td>\n      <td>OESTE</td>\n      <td>NaN</td>\n      <td>NaN</td>\n      <td>NaN</td>\n    </tr>\n    <tr>\n      <th>878035</th>\n      <td>2022-03-28 16:00:08</td>\n      <td>SIM</td>\n      <td>2020-07-23</td>\n      <td>2020-07-23</td>\n      <td>TOSSE</td>\n      <td>NaN</td>\n      <td>NaN</td>\n      <td>NAO INTERNADO</td>\n      <td>NAO INTERNADO UTI</td>\n      <td>MASCULINO</td>\n      <td>...</td>\n      <td>SIM</td>\n      <td>LABORATORIO MEDICO SANTA LUZIA MATRIZ</td>\n      <td>NAO</td>\n      <td>SIM</td>\n      <td>NaN</td>\n      <td>NaN</td>\n      <td>GRANDE FLORIANOPOLIS</td>\n      <td>NaN</td>\n      <td>NaN</td>\n      <td>FORQUILHAS</td>\n    </tr>\n    <tr>\n      <th>1570516</th>\n      <td>2022-03-28 16:00:08</td>\n      <td>SIM</td>\n      <td>2021-01-08</td>\n      <td>2021-01-08</td>\n      <td>NaN</td>\n      <td>NaN</td>\n      <td>NaN</td>\n      <td>NAO INTERNADO</td>\n      <td>NAO INTERNADO UTI</td>\n      <td>FEMININO</td>\n      <td>...</td>\n      <td>NAO</td>\n      <td>NaN</td>\n      <td>SIM</td>\n      <td>NAO</td>\n      <td>NaN</td>\n      <td>NaN</td>\n      <td>ALTO VALE DO RIO DO PEIXE</td>\n      <td>NaN</td>\n      <td>NaN</td>\n      <td>NaN</td>\n    </tr>\n    <tr>\n      <th>12475</th>\n      <td>2022-03-28 16:00:08</td>\n      <td>SIM</td>\n      <td>2020-07-12</td>\n      <td>2020-07-21</td>\n      <td>TOSSE, DOR NO CORPO</td>\n      <td>NaN</td>\n      <td>NaN</td>\n      <td>NAO INTERNADO</td>\n      <td>NAO INTERNADO UTI</td>\n      <td>FEMININO</td>\n      <td>...</td>\n      <td>NAO</td>\n      <td>NaN</td>\n      <td>SIM</td>\n      <td>NAO</td>\n      <td>NaN</td>\n      <td>NaN</td>\n      <td>CARBONIFERA</td>\n      <td>NaN</td>\n      <td>NaN</td>\n      <td>NaN</td>\n    </tr>\n  </tbody>\n</table>\n<p>5 rows × 41 columns</p>\n</div>"
     },
     "execution_count": 150,
     "metadata": {},
     "output_type": "execute_result"
    }
   ],
   "source": [
    "df.head()"
   ],
   "metadata": {
    "collapsed": false,
    "pycharm": {
     "name": "#%%\n"
    }
   }
  },
  {
   "cell_type": "code",
   "execution_count": 151,
   "outputs": [
    {
     "data": {
      "text/plain": "(1671328, 41)"
     },
     "execution_count": 151,
     "metadata": {},
     "output_type": "execute_result"
    }
   ],
   "source": [
    "df.shape"
   ],
   "metadata": {
    "collapsed": false,
    "pycharm": {
     "name": "#%%\n"
    }
   }
  },
  {
   "cell_type": "code",
   "execution_count": null,
   "outputs": [],
   "source": [
    "#verify rows duplicated\n",
    "df.duplicated().sum()"
   ],
   "metadata": {
    "collapsed": false,
    "pycharm": {
     "name": "#%%\n"
    }
   }
  },
  {
   "cell_type": "code",
   "execution_count": 152,
   "outputs": [
    {
     "name": "stdout",
     "output_type": "stream",
     "text": [
      "<class 'pandas.core.frame.DataFrame'>\n",
      "Int64Index: 1671328 entries, 250719 to 376143\n",
      "Data columns (total 41 columns):\n",
      " #   Column                             Non-Null Count    Dtype  \n",
      "---  ------                             --------------    -----  \n",
      " 0   data_publicacao                    1671328 non-null  object \n",
      " 1   recuperados                        1671327 non-null  object \n",
      " 2   data_inicio_sintomas               1671327 non-null  object \n",
      " 3   data_coleta                        1671327 non-null  object \n",
      " 4   sintomas                           1242957 non-null  object \n",
      " 5   comorbidades                       42392 non-null    object \n",
      " 6   gestante                           1029 non-null     object \n",
      " 7   internacao                         1671327 non-null  object \n",
      " 8   internacao_uti                     1671327 non-null  object \n",
      " 9   sexo                               1671327 non-null  object \n",
      " 10  municipio                          1671327 non-null  object \n",
      " 11  obito                              1671327 non-null  object \n",
      " 12  data_obito                         21650 non-null    object \n",
      " 13  idade                              1671068 non-null  float64\n",
      " 14  regional                           1671326 non-null  object \n",
      " 15  raca                               1671327 non-null  object \n",
      " 16  data_resultado                     1671327 non-null  object \n",
      " 17  codigo_ibge_municipio              1671326 non-null  float64\n",
      " 18  latitude                           1671326 non-null  float64\n",
      " 19  longitude                          1671326 non-null  float64\n",
      " 20  estado                             1671326 non-null  object \n",
      " 21  criterio_confirmacao               1671327 non-null  object \n",
      " 22  tipo_teste                         1671327 non-null  object \n",
      " 23  municipio_notificacao              1671245 non-null  object \n",
      " 24  codigo_ibge_municipio_notificacao  1671294 non-null  float64\n",
      " 25  latitude_notificacao               1671294 non-null  float64\n",
      " 26  longitude_notificacao              1671294 non-null  float64\n",
      " 27  classificacao                      1671327 non-null  object \n",
      " 28  origem_esus                        1671327 non-null  object \n",
      " 29  origem_sivep                       1671327 non-null  object \n",
      " 30  origem_lacen                       1671327 non-null  object \n",
      " 31  origem_laboratorio_privado         1671327 non-null  object \n",
      " 32  nom_laboratorio                    700274 non-null   object \n",
      " 33  fez_teste_rapido                   1671327 non-null  object \n",
      " 34  fez_pcr                            1671327 non-null  object \n",
      " 35  data_internacao                    76391 non-null    object \n",
      " 36  data_entrada_uti                   20924 non-null    object \n",
      " 37  regional_saude                     1671326 non-null  object \n",
      " 38  data_evolucao_caso                 72168 non-null    object \n",
      " 39  data_saida_uti                     13958 non-null    object \n",
      " 40  bairro                             814313 non-null   object \n",
      "dtypes: float64(7), object(34)\n",
      "memory usage: 535.6+ MB\n"
     ]
    }
   ],
   "source": [
    "df.info()"
   ],
   "metadata": {
    "collapsed": false,
    "pycharm": {
     "name": "#%%\n"
    }
   }
  },
  {
   "cell_type": "code",
   "execution_count": 153,
   "outputs": [
    {
     "data": {
      "text/plain": "              idade  codigo_ibge_municipio      latitude     longitude  \\\ncount  1.671068e+06           1.671326e+06  1.671326e+06  1.671326e+06   \nmean   3.863877e+01           4.208672e+06 -2.723870e+01 -4.971010e+01   \nstd    1.737843e+01           5.209406e+03  7.472559e-01  1.378420e+00   \nmin    0.000000e+00           4.200051e+06 -2.926750e+01 -5.371132e+01   \n25%    2.600000e+01           4.204301e+06 -2.757881e+01 -5.001392e+01   \n50%    3.700000e+01           4.208302e+06 -2.710866e+01 -4.909703e+01   \n75%    5.000000e+01           4.211900e+06 -2.676255e+01 -4.880668e+01   \nmax    1.200000e+02           4.220000e+06 -2.605694e+01 -4.850903e+01   \n\n       codigo_ibge_municipio_notificacao  latitude_notificacao  \\\ncount                       1.671294e+06          1.671294e+06   \nmean                        4.208672e+06         -2.723870e+01   \nstd                         5.209399e+03          7.472501e-01   \nmin                         4.200051e+06         -2.926750e+01   \n25%                         4.204301e+06         -2.757881e+01   \n50%                         4.208302e+06         -2.710866e+01   \n75%                         4.211900e+06         -2.676255e+01   \nmax                         4.220000e+06         -2.605694e+01   \n\n       longitude_notificacao  \ncount           1.671294e+06  \nmean           -4.971010e+01  \nstd             1.378426e+00  \nmin            -5.371132e+01  \n25%            -5.001392e+01  \n50%            -4.909703e+01  \n75%            -4.880668e+01  \nmax            -4.850903e+01  ",
      "text/html": "<div>\n<style scoped>\n    .dataframe tbody tr th:only-of-type {\n        vertical-align: middle;\n    }\n\n    .dataframe tbody tr th {\n        vertical-align: top;\n    }\n\n    .dataframe thead th {\n        text-align: right;\n    }\n</style>\n<table border=\"1\" class=\"dataframe\">\n  <thead>\n    <tr style=\"text-align: right;\">\n      <th></th>\n      <th>idade</th>\n      <th>codigo_ibge_municipio</th>\n      <th>latitude</th>\n      <th>longitude</th>\n      <th>codigo_ibge_municipio_notificacao</th>\n      <th>latitude_notificacao</th>\n      <th>longitude_notificacao</th>\n    </tr>\n  </thead>\n  <tbody>\n    <tr>\n      <th>count</th>\n      <td>1.671068e+06</td>\n      <td>1.671326e+06</td>\n      <td>1.671326e+06</td>\n      <td>1.671326e+06</td>\n      <td>1.671294e+06</td>\n      <td>1.671294e+06</td>\n      <td>1.671294e+06</td>\n    </tr>\n    <tr>\n      <th>mean</th>\n      <td>3.863877e+01</td>\n      <td>4.208672e+06</td>\n      <td>-2.723870e+01</td>\n      <td>-4.971010e+01</td>\n      <td>4.208672e+06</td>\n      <td>-2.723870e+01</td>\n      <td>-4.971010e+01</td>\n    </tr>\n    <tr>\n      <th>std</th>\n      <td>1.737843e+01</td>\n      <td>5.209406e+03</td>\n      <td>7.472559e-01</td>\n      <td>1.378420e+00</td>\n      <td>5.209399e+03</td>\n      <td>7.472501e-01</td>\n      <td>1.378426e+00</td>\n    </tr>\n    <tr>\n      <th>min</th>\n      <td>0.000000e+00</td>\n      <td>4.200051e+06</td>\n      <td>-2.926750e+01</td>\n      <td>-5.371132e+01</td>\n      <td>4.200051e+06</td>\n      <td>-2.926750e+01</td>\n      <td>-5.371132e+01</td>\n    </tr>\n    <tr>\n      <th>25%</th>\n      <td>2.600000e+01</td>\n      <td>4.204301e+06</td>\n      <td>-2.757881e+01</td>\n      <td>-5.001392e+01</td>\n      <td>4.204301e+06</td>\n      <td>-2.757881e+01</td>\n      <td>-5.001392e+01</td>\n    </tr>\n    <tr>\n      <th>50%</th>\n      <td>3.700000e+01</td>\n      <td>4.208302e+06</td>\n      <td>-2.710866e+01</td>\n      <td>-4.909703e+01</td>\n      <td>4.208302e+06</td>\n      <td>-2.710866e+01</td>\n      <td>-4.909703e+01</td>\n    </tr>\n    <tr>\n      <th>75%</th>\n      <td>5.000000e+01</td>\n      <td>4.211900e+06</td>\n      <td>-2.676255e+01</td>\n      <td>-4.880668e+01</td>\n      <td>4.211900e+06</td>\n      <td>-2.676255e+01</td>\n      <td>-4.880668e+01</td>\n    </tr>\n    <tr>\n      <th>max</th>\n      <td>1.200000e+02</td>\n      <td>4.220000e+06</td>\n      <td>-2.605694e+01</td>\n      <td>-4.850903e+01</td>\n      <td>4.220000e+06</td>\n      <td>-2.605694e+01</td>\n      <td>-4.850903e+01</td>\n    </tr>\n  </tbody>\n</table>\n</div>"
     },
     "execution_count": 153,
     "metadata": {},
     "output_type": "execute_result"
    }
   ],
   "source": [
    "df.describe()"
   ],
   "metadata": {
    "collapsed": false,
    "pycharm": {
     "name": "#%%\n"
    }
   }
  },
  {
   "cell_type": "code",
   "execution_count": 154,
   "outputs": [
    {
     "data": {
      "text/plain": "                                                              column    dtype  \\\ngestante                                                    gestante   object   \ndata_saida_uti                                        data_saida_uti   object   \ndata_entrada_uti                                    data_entrada_uti   object   \ndata_obito                                                data_obito   object   \ncomorbidades                                            comorbidades   object   \ndata_evolucao_caso                                data_evolucao_caso   object   \ndata_internacao                                      data_internacao   object   \nnom_laboratorio                                      nom_laboratorio   object   \nbairro                                                        bairro   object   \nsintomas                                                    sintomas   object   \nidade                                                          idade  float64   \nmunicipio_notificacao                          municipio_notificacao   object   \nlongitude_notificacao                          longitude_notificacao  float64   \nlatitude_notificacao                            latitude_notificacao  float64   \ncodigo_ibge_municipio_notificacao  codigo_ibge_municipio_notificacao  float64   \nlatitude                                                    latitude  float64   \nregional_saude                                        regional_saude   object   \nlongitude                                                  longitude  float64   \nestado                                                        estado   object   \ncodigo_ibge_municipio                          codigo_ibge_municipio  float64   \nregional                                                    regional   object   \norigem_laboratorio_privado                origem_laboratorio_privado   object   \ndata_inicio_sintomas                            data_inicio_sintomas   object   \ndata_coleta                                              data_coleta   object   \ninternacao                                                internacao   object   \ninternacao_uti                                        internacao_uti   object   \nsexo                                                            sexo   object   \nfez_pcr                                                      fez_pcr   object   \nfez_teste_rapido                                    fez_teste_rapido   object   \nmunicipio                                                  municipio   object   \norigem_lacen                                            origem_lacen   object   \nrecuperados                                              recuperados   object   \norigem_sivep                                            origem_sivep   object   \norigem_esus                                              origem_esus   object   \nclassificacao                                          classificacao   object   \nobito                                                          obito   object   \nraca                                                            raca   object   \ndata_resultado                                        data_resultado   object   \ntipo_teste                                                tipo_teste   object   \ncriterio_confirmacao                            criterio_confirmacao   object   \ndata_publicacao                                      data_publicacao   object   \n\n                                     nulls      null_pct  \ngestante                           1670299  9.993843e-01  \ndata_saida_uti                     1657370  9.916486e-01  \ndata_entrada_uti                   1650404  9.874806e-01  \ndata_obito                         1649678  9.870462e-01  \ncomorbidades                       1628936  9.746357e-01  \ndata_evolucao_caso                 1599160  9.568200e-01  \ndata_internacao                    1594937  9.542932e-01  \nnom_laboratorio                     971054  5.810074e-01  \nbairro                              857015  5.127749e-01  \nsintomas                            428371  2.563058e-01  \nidade                                  260  1.555649e-04  \nmunicipio_notificacao                   83  4.966111e-05  \nlongitude_notificacao                   34  2.034310e-05  \nlatitude_notificacao                    34  2.034310e-05  \ncodigo_ibge_municipio_notificacao       34  2.034310e-05  \nlatitude                                 2  1.196653e-06  \nregional_saude                           2  1.196653e-06  \nlongitude                                2  1.196653e-06  \nestado                                   2  1.196653e-06  \ncodigo_ibge_municipio                    2  1.196653e-06  \nregional                                 2  1.196653e-06  \norigem_laboratorio_privado               1  5.983266e-07  \ndata_inicio_sintomas                     1  5.983266e-07  \ndata_coleta                              1  5.983266e-07  \ninternacao                               1  5.983266e-07  \ninternacao_uti                           1  5.983266e-07  \nsexo                                     1  5.983266e-07  \nfez_pcr                                  1  5.983266e-07  \nfez_teste_rapido                         1  5.983266e-07  \nmunicipio                                1  5.983266e-07  \norigem_lacen                             1  5.983266e-07  \nrecuperados                              1  5.983266e-07  \norigem_sivep                             1  5.983266e-07  \norigem_esus                              1  5.983266e-07  \nclassificacao                            1  5.983266e-07  \nobito                                    1  5.983266e-07  \nraca                                     1  5.983266e-07  \ndata_resultado                           1  5.983266e-07  \ntipo_teste                               1  5.983266e-07  \ncriterio_confirmacao                     1  5.983266e-07  \ndata_publicacao                          0  0.000000e+00  ",
      "text/html": "<div>\n<style scoped>\n    .dataframe tbody tr th:only-of-type {\n        vertical-align: middle;\n    }\n\n    .dataframe tbody tr th {\n        vertical-align: top;\n    }\n\n    .dataframe thead th {\n        text-align: right;\n    }\n</style>\n<table border=\"1\" class=\"dataframe\">\n  <thead>\n    <tr style=\"text-align: right;\">\n      <th></th>\n      <th>column</th>\n      <th>dtype</th>\n      <th>nulls</th>\n      <th>null_pct</th>\n    </tr>\n  </thead>\n  <tbody>\n    <tr>\n      <th>gestante</th>\n      <td>gestante</td>\n      <td>object</td>\n      <td>1670299</td>\n      <td>9.993843e-01</td>\n    </tr>\n    <tr>\n      <th>data_saida_uti</th>\n      <td>data_saida_uti</td>\n      <td>object</td>\n      <td>1657370</td>\n      <td>9.916486e-01</td>\n    </tr>\n    <tr>\n      <th>data_entrada_uti</th>\n      <td>data_entrada_uti</td>\n      <td>object</td>\n      <td>1650404</td>\n      <td>9.874806e-01</td>\n    </tr>\n    <tr>\n      <th>data_obito</th>\n      <td>data_obito</td>\n      <td>object</td>\n      <td>1649678</td>\n      <td>9.870462e-01</td>\n    </tr>\n    <tr>\n      <th>comorbidades</th>\n      <td>comorbidades</td>\n      <td>object</td>\n      <td>1628936</td>\n      <td>9.746357e-01</td>\n    </tr>\n    <tr>\n      <th>data_evolucao_caso</th>\n      <td>data_evolucao_caso</td>\n      <td>object</td>\n      <td>1599160</td>\n      <td>9.568200e-01</td>\n    </tr>\n    <tr>\n      <th>data_internacao</th>\n      <td>data_internacao</td>\n      <td>object</td>\n      <td>1594937</td>\n      <td>9.542932e-01</td>\n    </tr>\n    <tr>\n      <th>nom_laboratorio</th>\n      <td>nom_laboratorio</td>\n      <td>object</td>\n      <td>971054</td>\n      <td>5.810074e-01</td>\n    </tr>\n    <tr>\n      <th>bairro</th>\n      <td>bairro</td>\n      <td>object</td>\n      <td>857015</td>\n      <td>5.127749e-01</td>\n    </tr>\n    <tr>\n      <th>sintomas</th>\n      <td>sintomas</td>\n      <td>object</td>\n      <td>428371</td>\n      <td>2.563058e-01</td>\n    </tr>\n    <tr>\n      <th>idade</th>\n      <td>idade</td>\n      <td>float64</td>\n      <td>260</td>\n      <td>1.555649e-04</td>\n    </tr>\n    <tr>\n      <th>municipio_notificacao</th>\n      <td>municipio_notificacao</td>\n      <td>object</td>\n      <td>83</td>\n      <td>4.966111e-05</td>\n    </tr>\n    <tr>\n      <th>longitude_notificacao</th>\n      <td>longitude_notificacao</td>\n      <td>float64</td>\n      <td>34</td>\n      <td>2.034310e-05</td>\n    </tr>\n    <tr>\n      <th>latitude_notificacao</th>\n      <td>latitude_notificacao</td>\n      <td>float64</td>\n      <td>34</td>\n      <td>2.034310e-05</td>\n    </tr>\n    <tr>\n      <th>codigo_ibge_municipio_notificacao</th>\n      <td>codigo_ibge_municipio_notificacao</td>\n      <td>float64</td>\n      <td>34</td>\n      <td>2.034310e-05</td>\n    </tr>\n    <tr>\n      <th>latitude</th>\n      <td>latitude</td>\n      <td>float64</td>\n      <td>2</td>\n      <td>1.196653e-06</td>\n    </tr>\n    <tr>\n      <th>regional_saude</th>\n      <td>regional_saude</td>\n      <td>object</td>\n      <td>2</td>\n      <td>1.196653e-06</td>\n    </tr>\n    <tr>\n      <th>longitude</th>\n      <td>longitude</td>\n      <td>float64</td>\n      <td>2</td>\n      <td>1.196653e-06</td>\n    </tr>\n    <tr>\n      <th>estado</th>\n      <td>estado</td>\n      <td>object</td>\n      <td>2</td>\n      <td>1.196653e-06</td>\n    </tr>\n    <tr>\n      <th>codigo_ibge_municipio</th>\n      <td>codigo_ibge_municipio</td>\n      <td>float64</td>\n      <td>2</td>\n      <td>1.196653e-06</td>\n    </tr>\n    <tr>\n      <th>regional</th>\n      <td>regional</td>\n      <td>object</td>\n      <td>2</td>\n      <td>1.196653e-06</td>\n    </tr>\n    <tr>\n      <th>origem_laboratorio_privado</th>\n      <td>origem_laboratorio_privado</td>\n      <td>object</td>\n      <td>1</td>\n      <td>5.983266e-07</td>\n    </tr>\n    <tr>\n      <th>data_inicio_sintomas</th>\n      <td>data_inicio_sintomas</td>\n      <td>object</td>\n      <td>1</td>\n      <td>5.983266e-07</td>\n    </tr>\n    <tr>\n      <th>data_coleta</th>\n      <td>data_coleta</td>\n      <td>object</td>\n      <td>1</td>\n      <td>5.983266e-07</td>\n    </tr>\n    <tr>\n      <th>internacao</th>\n      <td>internacao</td>\n      <td>object</td>\n      <td>1</td>\n      <td>5.983266e-07</td>\n    </tr>\n    <tr>\n      <th>internacao_uti</th>\n      <td>internacao_uti</td>\n      <td>object</td>\n      <td>1</td>\n      <td>5.983266e-07</td>\n    </tr>\n    <tr>\n      <th>sexo</th>\n      <td>sexo</td>\n      <td>object</td>\n      <td>1</td>\n      <td>5.983266e-07</td>\n    </tr>\n    <tr>\n      <th>fez_pcr</th>\n      <td>fez_pcr</td>\n      <td>object</td>\n      <td>1</td>\n      <td>5.983266e-07</td>\n    </tr>\n    <tr>\n      <th>fez_teste_rapido</th>\n      <td>fez_teste_rapido</td>\n      <td>object</td>\n      <td>1</td>\n      <td>5.983266e-07</td>\n    </tr>\n    <tr>\n      <th>municipio</th>\n      <td>municipio</td>\n      <td>object</td>\n      <td>1</td>\n      <td>5.983266e-07</td>\n    </tr>\n    <tr>\n      <th>origem_lacen</th>\n      <td>origem_lacen</td>\n      <td>object</td>\n      <td>1</td>\n      <td>5.983266e-07</td>\n    </tr>\n    <tr>\n      <th>recuperados</th>\n      <td>recuperados</td>\n      <td>object</td>\n      <td>1</td>\n      <td>5.983266e-07</td>\n    </tr>\n    <tr>\n      <th>origem_sivep</th>\n      <td>origem_sivep</td>\n      <td>object</td>\n      <td>1</td>\n      <td>5.983266e-07</td>\n    </tr>\n    <tr>\n      <th>origem_esus</th>\n      <td>origem_esus</td>\n      <td>object</td>\n      <td>1</td>\n      <td>5.983266e-07</td>\n    </tr>\n    <tr>\n      <th>classificacao</th>\n      <td>classificacao</td>\n      <td>object</td>\n      <td>1</td>\n      <td>5.983266e-07</td>\n    </tr>\n    <tr>\n      <th>obito</th>\n      <td>obito</td>\n      <td>object</td>\n      <td>1</td>\n      <td>5.983266e-07</td>\n    </tr>\n    <tr>\n      <th>raca</th>\n      <td>raca</td>\n      <td>object</td>\n      <td>1</td>\n      <td>5.983266e-07</td>\n    </tr>\n    <tr>\n      <th>data_resultado</th>\n      <td>data_resultado</td>\n      <td>object</td>\n      <td>1</td>\n      <td>5.983266e-07</td>\n    </tr>\n    <tr>\n      <th>tipo_teste</th>\n      <td>tipo_teste</td>\n      <td>object</td>\n      <td>1</td>\n      <td>5.983266e-07</td>\n    </tr>\n    <tr>\n      <th>criterio_confirmacao</th>\n      <td>criterio_confirmacao</td>\n      <td>object</td>\n      <td>1</td>\n      <td>5.983266e-07</td>\n    </tr>\n    <tr>\n      <th>data_publicacao</th>\n      <td>data_publicacao</td>\n      <td>object</td>\n      <td>0</td>\n      <td>0.000000e+00</td>\n    </tr>\n  </tbody>\n</table>\n</div>"
     },
     "execution_count": 154,
     "metadata": {},
     "output_type": "execute_result"
    }
   ],
   "source": [
    "pd.DataFrame({\n",
    "    'column': df.columns,\n",
    "    'dtype': df.dtypes,\n",
    "    'nulls': df.isnull().sum(),\n",
    "    'null_pct': df.isnull().sum() / df.shape[0]\n",
    "}).sort_values('null_pct', ascending=False)\n"
   ],
   "metadata": {
    "collapsed": false,
    "pycharm": {
     "name": "#%%\n"
    }
   }
  },
  {
   "cell_type": "code",
   "execution_count": 155,
   "outputs": [],
   "source": [
    "df.dropna(subset= ['codigo_ibge_municipio'], inplace=True)"
   ],
   "metadata": {
    "collapsed": false,
    "pycharm": {
     "name": "#%%\n"
    }
   }
  },
  {
   "cell_type": "code",
   "execution_count": 156,
   "outputs": [],
   "source": [
    "df['codigo_ibge_municipio'] = df.codigo_ibge_municipio.apply(int).apply(str)"
   ],
   "metadata": {
    "collapsed": false,
    "pycharm": {
     "name": "#%%\n"
    }
   }
  },
  {
   "cell_type": "markdown",
   "source": [
    "# Data IDH"
   ],
   "metadata": {
    "collapsed": false
   }
  },
  {
   "cell_type": "code",
   "execution_count": 157,
   "outputs": [],
   "source": [
    "df_idh = pd.read_csv('../data/atlas.csv')"
   ],
   "metadata": {
    "collapsed": false,
    "pycharm": {
     "name": "#%%\n"
    }
   }
  },
  {
   "cell_type": "code",
   "execution_count": 158,
   "outputs": [
    {
     "data": {
      "text/plain": "    ano  codmun6  uf  codmun7              município  espvida  fectot  mort1  \\\n0  1991   110001  11  1100015  ALTA FLORESTA D'OESTE    62.01    4.08  45.58   \n1  1991   110002  11  1100023              ARIQUEMES    66.02    3.72  32.39   \n2  1991   110003  11  1100031                 CABIXI    63.16    3.89  41.52   \n3  1991   110004  11  1100049                 CACOAL    65.03    3.81  35.37   \n4  1991   110005  11  1100056             CEREJEIRAS    62.73    3.55  43.00   \n\n   mort5  razdep  ...  pia1517  pia18m    pop   popt  i_escolaridade  \\\n0  58.05   73.50  ...      NaN     NaN  23417  22835           0.117   \n1  41.41   69.97  ...      NaN     NaN  56061  55018           0.200   \n2  52.94   77.23  ...      NaN     NaN   7601   5846           0.111   \n3  45.19   71.11  ...      NaN     NaN  69173  66534           0.176   \n4  54.82   71.09  ...      NaN     NaN  19451  19030           0.152   \n\n   i_freq_prop   idhm  idhm_e  idhm_l  idhm_r  \n0        0.109  0.329   0.112   0.617   0.516  \n1        0.199  0.432   0.199   0.684   0.593  \n2        0.106  0.309   0.108   0.636   0.430  \n3        0.169  0.407   0.171   0.667   0.593  \n4        0.175  0.386   0.167   0.629   0.547  \n\n[5 rows x 237 columns]",
      "text/html": "<div>\n<style scoped>\n    .dataframe tbody tr th:only-of-type {\n        vertical-align: middle;\n    }\n\n    .dataframe tbody tr th {\n        vertical-align: top;\n    }\n\n    .dataframe thead th {\n        text-align: right;\n    }\n</style>\n<table border=\"1\" class=\"dataframe\">\n  <thead>\n    <tr style=\"text-align: right;\">\n      <th></th>\n      <th>ano</th>\n      <th>codmun6</th>\n      <th>uf</th>\n      <th>codmun7</th>\n      <th>município</th>\n      <th>espvida</th>\n      <th>fectot</th>\n      <th>mort1</th>\n      <th>mort5</th>\n      <th>razdep</th>\n      <th>...</th>\n      <th>pia1517</th>\n      <th>pia18m</th>\n      <th>pop</th>\n      <th>popt</th>\n      <th>i_escolaridade</th>\n      <th>i_freq_prop</th>\n      <th>idhm</th>\n      <th>idhm_e</th>\n      <th>idhm_l</th>\n      <th>idhm_r</th>\n    </tr>\n  </thead>\n  <tbody>\n    <tr>\n      <th>0</th>\n      <td>1991</td>\n      <td>110001</td>\n      <td>11</td>\n      <td>1100015</td>\n      <td>ALTA FLORESTA D'OESTE</td>\n      <td>62.01</td>\n      <td>4.08</td>\n      <td>45.58</td>\n      <td>58.05</td>\n      <td>73.50</td>\n      <td>...</td>\n      <td>NaN</td>\n      <td>NaN</td>\n      <td>23417</td>\n      <td>22835</td>\n      <td>0.117</td>\n      <td>0.109</td>\n      <td>0.329</td>\n      <td>0.112</td>\n      <td>0.617</td>\n      <td>0.516</td>\n    </tr>\n    <tr>\n      <th>1</th>\n      <td>1991</td>\n      <td>110002</td>\n      <td>11</td>\n      <td>1100023</td>\n      <td>ARIQUEMES</td>\n      <td>66.02</td>\n      <td>3.72</td>\n      <td>32.39</td>\n      <td>41.41</td>\n      <td>69.97</td>\n      <td>...</td>\n      <td>NaN</td>\n      <td>NaN</td>\n      <td>56061</td>\n      <td>55018</td>\n      <td>0.200</td>\n      <td>0.199</td>\n      <td>0.432</td>\n      <td>0.199</td>\n      <td>0.684</td>\n      <td>0.593</td>\n    </tr>\n    <tr>\n      <th>2</th>\n      <td>1991</td>\n      <td>110003</td>\n      <td>11</td>\n      <td>1100031</td>\n      <td>CABIXI</td>\n      <td>63.16</td>\n      <td>3.89</td>\n      <td>41.52</td>\n      <td>52.94</td>\n      <td>77.23</td>\n      <td>...</td>\n      <td>NaN</td>\n      <td>NaN</td>\n      <td>7601</td>\n      <td>5846</td>\n      <td>0.111</td>\n      <td>0.106</td>\n      <td>0.309</td>\n      <td>0.108</td>\n      <td>0.636</td>\n      <td>0.430</td>\n    </tr>\n    <tr>\n      <th>3</th>\n      <td>1991</td>\n      <td>110004</td>\n      <td>11</td>\n      <td>1100049</td>\n      <td>CACOAL</td>\n      <td>65.03</td>\n      <td>3.81</td>\n      <td>35.37</td>\n      <td>45.19</td>\n      <td>71.11</td>\n      <td>...</td>\n      <td>NaN</td>\n      <td>NaN</td>\n      <td>69173</td>\n      <td>66534</td>\n      <td>0.176</td>\n      <td>0.169</td>\n      <td>0.407</td>\n      <td>0.171</td>\n      <td>0.667</td>\n      <td>0.593</td>\n    </tr>\n    <tr>\n      <th>4</th>\n      <td>1991</td>\n      <td>110005</td>\n      <td>11</td>\n      <td>1100056</td>\n      <td>CEREJEIRAS</td>\n      <td>62.73</td>\n      <td>3.55</td>\n      <td>43.00</td>\n      <td>54.82</td>\n      <td>71.09</td>\n      <td>...</td>\n      <td>NaN</td>\n      <td>NaN</td>\n      <td>19451</td>\n      <td>19030</td>\n      <td>0.152</td>\n      <td>0.175</td>\n      <td>0.386</td>\n      <td>0.167</td>\n      <td>0.629</td>\n      <td>0.547</td>\n    </tr>\n  </tbody>\n</table>\n<p>5 rows × 237 columns</p>\n</div>"
     },
     "execution_count": 158,
     "metadata": {},
     "output_type": "execute_result"
    }
   ],
   "source": [
    "df_idh.head()"
   ],
   "metadata": {
    "collapsed": false,
    "pycharm": {
     "name": "#%%\n"
    }
   }
  },
  {
   "cell_type": "code",
   "execution_count": 159,
   "outputs": [],
   "source": [
    "df_idh = df_idh[df_idh.ano==2010].reset_index(drop=True)"
   ],
   "metadata": {
    "collapsed": false,
    "pycharm": {
     "name": "#%%\n"
    }
   }
  },
  {
   "cell_type": "code",
   "execution_count": 160,
   "outputs": [
    {
     "data": {
      "text/plain": "(5565, 237)"
     },
     "execution_count": 160,
     "metadata": {},
     "output_type": "execute_result"
    }
   ],
   "source": [
    "df_idh.shape"
   ],
   "metadata": {
    "collapsed": false,
    "pycharm": {
     "name": "#%%\n"
    }
   }
  },
  {
   "cell_type": "code",
   "execution_count": 161,
   "outputs": [
    {
     "name": "stdout",
     "output_type": "stream",
     "text": [
      "<class 'pandas.core.frame.DataFrame'>\n",
      "RangeIndex: 5565 entries, 0 to 5564\n",
      "Columns: 237 entries, ano to idhm_r\n",
      "dtypes: float64(167), int64(69), object(1)\n",
      "memory usage: 10.1+ MB\n"
     ]
    }
   ],
   "source": [
    "df_idh.info()"
   ],
   "metadata": {
    "collapsed": false,
    "pycharm": {
     "name": "#%%\n"
    }
   }
  },
  {
   "cell_type": "code",
   "execution_count": 162,
   "outputs": [
    {
     "data": {
      "text/plain": "          ano        codmun6           uf       codmun7      espvida  \\\ncount  5565.0    5565.000000  5565.000000  5.565000e+03  5565.000000   \nmean   2010.0  325304.894160    32.372327  3.253053e+06    73.088996   \nstd       0.0   98452.148072     9.829957  9.845215e+05     2.680715   \nmin    2010.0  110001.000000    11.000000  1.100015e+06    65.300000   \n25%    2010.0  251210.000000    25.000000  2.512101e+06    71.150000   \n50%    2010.0  314620.000000    31.000000  3.146206e+06    73.470000   \n75%    2010.0  411900.000000    41.000000  4.119004e+06    75.160000   \nmax    2010.0  530010.000000    53.000000  5.300108e+06    78.640000   \n\n            fectot        mort1        mort5       razdep      sobre40  ...  \\\ncount  5565.000000  5565.000000  5565.000000  5565.000000  5565.000000  ...   \nmean      2.190086    19.246983    21.533290    51.485718    93.780764  ...   \nstd       0.503041     7.136643     7.321787     8.949110     1.255955  ...   \nmin       1.210000     8.490000     9.980000    29.170000    88.830000  ...   \n25%       1.850000    13.800000    16.040000    44.880000    92.950000  ...   \n50%       2.130000    16.900000    19.420000    49.590000    93.890000  ...   \n75%       2.460000    23.800000    25.820000    56.870000    94.680000  ...   \nmax       4.890000    46.800000    50.940000   118.040000    97.090000  ...   \n\n             pia1517        pia18m           pop          popt  \\\ncount    5565.000000  5.565000e+03  5.565000e+03  5.565000e+03   \nmean     1860.530997  2.416178e+04  3.404624e+04  3.374994e+04   \nstd      9444.241027  1.512691e+05  2.015770e+05  2.014323e+05   \nmin        42.000000  5.970000e+02  8.050000e+02  8.050000e+02   \n25%       305.000000  3.613000e+03  5.202000e+03  5.132000e+03   \n50%       649.000000  7.462000e+03  1.087100e+04  1.070400e+04   \n75%      1384.000000  1.570500e+04  2.325500e+04  2.274600e+04   \nmax    506046.000000  8.410471e+06  1.117261e+07  1.116654e+07   \n\n       i_escolaridade  i_freq_prop         idhm       idhm_e       idhm_l  \\\ncount     5565.000000  5565.000000  5565.000000  5565.000000  5565.000000   \nmean         0.396692     0.668344     0.659157     0.559094     0.801564   \nstd          0.105885     0.096125     0.071997     0.093328     0.044681   \nmin          0.120000     0.268000     0.418000     0.207000     0.672000   \n25%          0.315000     0.603000     0.599000     0.490000     0.769000   \n50%          0.384000     0.670000     0.665000     0.560000     0.808000   \n75%          0.464000     0.741000     0.718000     0.631000     0.836000   \nmax          0.800000     0.962000     0.862000     0.825000     0.894000   \n\n            idhm_r  \ncount  5565.000000  \nmean      0.642873  \nstd       0.080662  \nmin       0.400000  \n25%       0.572000  \n50%       0.654000  \n75%       0.707000  \nmax       0.891000  \n\n[8 rows x 236 columns]",
      "text/html": "<div>\n<style scoped>\n    .dataframe tbody tr th:only-of-type {\n        vertical-align: middle;\n    }\n\n    .dataframe tbody tr th {\n        vertical-align: top;\n    }\n\n    .dataframe thead th {\n        text-align: right;\n    }\n</style>\n<table border=\"1\" class=\"dataframe\">\n  <thead>\n    <tr style=\"text-align: right;\">\n      <th></th>\n      <th>ano</th>\n      <th>codmun6</th>\n      <th>uf</th>\n      <th>codmun7</th>\n      <th>espvida</th>\n      <th>fectot</th>\n      <th>mort1</th>\n      <th>mort5</th>\n      <th>razdep</th>\n      <th>sobre40</th>\n      <th>...</th>\n      <th>pia1517</th>\n      <th>pia18m</th>\n      <th>pop</th>\n      <th>popt</th>\n      <th>i_escolaridade</th>\n      <th>i_freq_prop</th>\n      <th>idhm</th>\n      <th>idhm_e</th>\n      <th>idhm_l</th>\n      <th>idhm_r</th>\n    </tr>\n  </thead>\n  <tbody>\n    <tr>\n      <th>count</th>\n      <td>5565.0</td>\n      <td>5565.000000</td>\n      <td>5565.000000</td>\n      <td>5.565000e+03</td>\n      <td>5565.000000</td>\n      <td>5565.000000</td>\n      <td>5565.000000</td>\n      <td>5565.000000</td>\n      <td>5565.000000</td>\n      <td>5565.000000</td>\n      <td>...</td>\n      <td>5565.000000</td>\n      <td>5.565000e+03</td>\n      <td>5.565000e+03</td>\n      <td>5.565000e+03</td>\n      <td>5565.000000</td>\n      <td>5565.000000</td>\n      <td>5565.000000</td>\n      <td>5565.000000</td>\n      <td>5565.000000</td>\n      <td>5565.000000</td>\n    </tr>\n    <tr>\n      <th>mean</th>\n      <td>2010.0</td>\n      <td>325304.894160</td>\n      <td>32.372327</td>\n      <td>3.253053e+06</td>\n      <td>73.088996</td>\n      <td>2.190086</td>\n      <td>19.246983</td>\n      <td>21.533290</td>\n      <td>51.485718</td>\n      <td>93.780764</td>\n      <td>...</td>\n      <td>1860.530997</td>\n      <td>2.416178e+04</td>\n      <td>3.404624e+04</td>\n      <td>3.374994e+04</td>\n      <td>0.396692</td>\n      <td>0.668344</td>\n      <td>0.659157</td>\n      <td>0.559094</td>\n      <td>0.801564</td>\n      <td>0.642873</td>\n    </tr>\n    <tr>\n      <th>std</th>\n      <td>0.0</td>\n      <td>98452.148072</td>\n      <td>9.829957</td>\n      <td>9.845215e+05</td>\n      <td>2.680715</td>\n      <td>0.503041</td>\n      <td>7.136643</td>\n      <td>7.321787</td>\n      <td>8.949110</td>\n      <td>1.255955</td>\n      <td>...</td>\n      <td>9444.241027</td>\n      <td>1.512691e+05</td>\n      <td>2.015770e+05</td>\n      <td>2.014323e+05</td>\n      <td>0.105885</td>\n      <td>0.096125</td>\n      <td>0.071997</td>\n      <td>0.093328</td>\n      <td>0.044681</td>\n      <td>0.080662</td>\n    </tr>\n    <tr>\n      <th>min</th>\n      <td>2010.0</td>\n      <td>110001.000000</td>\n      <td>11.000000</td>\n      <td>1.100015e+06</td>\n      <td>65.300000</td>\n      <td>1.210000</td>\n      <td>8.490000</td>\n      <td>9.980000</td>\n      <td>29.170000</td>\n      <td>88.830000</td>\n      <td>...</td>\n      <td>42.000000</td>\n      <td>5.970000e+02</td>\n      <td>8.050000e+02</td>\n      <td>8.050000e+02</td>\n      <td>0.120000</td>\n      <td>0.268000</td>\n      <td>0.418000</td>\n      <td>0.207000</td>\n      <td>0.672000</td>\n      <td>0.400000</td>\n    </tr>\n    <tr>\n      <th>25%</th>\n      <td>2010.0</td>\n      <td>251210.000000</td>\n      <td>25.000000</td>\n      <td>2.512101e+06</td>\n      <td>71.150000</td>\n      <td>1.850000</td>\n      <td>13.800000</td>\n      <td>16.040000</td>\n      <td>44.880000</td>\n      <td>92.950000</td>\n      <td>...</td>\n      <td>305.000000</td>\n      <td>3.613000e+03</td>\n      <td>5.202000e+03</td>\n      <td>5.132000e+03</td>\n      <td>0.315000</td>\n      <td>0.603000</td>\n      <td>0.599000</td>\n      <td>0.490000</td>\n      <td>0.769000</td>\n      <td>0.572000</td>\n    </tr>\n    <tr>\n      <th>50%</th>\n      <td>2010.0</td>\n      <td>314620.000000</td>\n      <td>31.000000</td>\n      <td>3.146206e+06</td>\n      <td>73.470000</td>\n      <td>2.130000</td>\n      <td>16.900000</td>\n      <td>19.420000</td>\n      <td>49.590000</td>\n      <td>93.890000</td>\n      <td>...</td>\n      <td>649.000000</td>\n      <td>7.462000e+03</td>\n      <td>1.087100e+04</td>\n      <td>1.070400e+04</td>\n      <td>0.384000</td>\n      <td>0.670000</td>\n      <td>0.665000</td>\n      <td>0.560000</td>\n      <td>0.808000</td>\n      <td>0.654000</td>\n    </tr>\n    <tr>\n      <th>75%</th>\n      <td>2010.0</td>\n      <td>411900.000000</td>\n      <td>41.000000</td>\n      <td>4.119004e+06</td>\n      <td>75.160000</td>\n      <td>2.460000</td>\n      <td>23.800000</td>\n      <td>25.820000</td>\n      <td>56.870000</td>\n      <td>94.680000</td>\n      <td>...</td>\n      <td>1384.000000</td>\n      <td>1.570500e+04</td>\n      <td>2.325500e+04</td>\n      <td>2.274600e+04</td>\n      <td>0.464000</td>\n      <td>0.741000</td>\n      <td>0.718000</td>\n      <td>0.631000</td>\n      <td>0.836000</td>\n      <td>0.707000</td>\n    </tr>\n    <tr>\n      <th>max</th>\n      <td>2010.0</td>\n      <td>530010.000000</td>\n      <td>53.000000</td>\n      <td>5.300108e+06</td>\n      <td>78.640000</td>\n      <td>4.890000</td>\n      <td>46.800000</td>\n      <td>50.940000</td>\n      <td>118.040000</td>\n      <td>97.090000</td>\n      <td>...</td>\n      <td>506046.000000</td>\n      <td>8.410471e+06</td>\n      <td>1.117261e+07</td>\n      <td>1.116654e+07</td>\n      <td>0.800000</td>\n      <td>0.962000</td>\n      <td>0.862000</td>\n      <td>0.825000</td>\n      <td>0.894000</td>\n      <td>0.891000</td>\n    </tr>\n  </tbody>\n</table>\n<p>8 rows × 236 columns</p>\n</div>"
     },
     "execution_count": 162,
     "metadata": {},
     "output_type": "execute_result"
    }
   ],
   "source": [
    "df_idh.describe()"
   ],
   "metadata": {
    "collapsed": false,
    "pycharm": {
     "name": "#%%\n"
    }
   }
  },
  {
   "cell_type": "code",
   "execution_count": 163,
   "outputs": [
    {
     "data": {
      "text/plain": "                            column    dtype  nulls  null_pct\nano                            ano    int64      0       0.0\nhomem30a34              homem30a34    int64      0       0.0\nt_m10a14cf              t_m10a14cf  float64      0       0.0\nt_m15a17cf              t_m15a17cf  float64      0       0.0\nt_mulchefefif014  t_mulchefefif014  float64      0       0.0\n...                            ...      ...    ...       ...\npren20                      pren20  float64      0       0.0\npren20ricos            pren20ricos  float64      0       0.0\npren40                      pren40  float64      0       0.0\npren60                      pren60  float64      0       0.0\nidhm_r                      idhm_r  float64      0       0.0\n\n[237 rows x 4 columns]",
      "text/html": "<div>\n<style scoped>\n    .dataframe tbody tr th:only-of-type {\n        vertical-align: middle;\n    }\n\n    .dataframe tbody tr th {\n        vertical-align: top;\n    }\n\n    .dataframe thead th {\n        text-align: right;\n    }\n</style>\n<table border=\"1\" class=\"dataframe\">\n  <thead>\n    <tr style=\"text-align: right;\">\n      <th></th>\n      <th>column</th>\n      <th>dtype</th>\n      <th>nulls</th>\n      <th>null_pct</th>\n    </tr>\n  </thead>\n  <tbody>\n    <tr>\n      <th>ano</th>\n      <td>ano</td>\n      <td>int64</td>\n      <td>0</td>\n      <td>0.0</td>\n    </tr>\n    <tr>\n      <th>homem30a34</th>\n      <td>homem30a34</td>\n      <td>int64</td>\n      <td>0</td>\n      <td>0.0</td>\n    </tr>\n    <tr>\n      <th>t_m10a14cf</th>\n      <td>t_m10a14cf</td>\n      <td>float64</td>\n      <td>0</td>\n      <td>0.0</td>\n    </tr>\n    <tr>\n      <th>t_m15a17cf</th>\n      <td>t_m15a17cf</td>\n      <td>float64</td>\n      <td>0</td>\n      <td>0.0</td>\n    </tr>\n    <tr>\n      <th>t_mulchefefif014</th>\n      <td>t_mulchefefif014</td>\n      <td>float64</td>\n      <td>0</td>\n      <td>0.0</td>\n    </tr>\n    <tr>\n      <th>...</th>\n      <td>...</td>\n      <td>...</td>\n      <td>...</td>\n      <td>...</td>\n    </tr>\n    <tr>\n      <th>pren20</th>\n      <td>pren20</td>\n      <td>float64</td>\n      <td>0</td>\n      <td>0.0</td>\n    </tr>\n    <tr>\n      <th>pren20ricos</th>\n      <td>pren20ricos</td>\n      <td>float64</td>\n      <td>0</td>\n      <td>0.0</td>\n    </tr>\n    <tr>\n      <th>pren40</th>\n      <td>pren40</td>\n      <td>float64</td>\n      <td>0</td>\n      <td>0.0</td>\n    </tr>\n    <tr>\n      <th>pren60</th>\n      <td>pren60</td>\n      <td>float64</td>\n      <td>0</td>\n      <td>0.0</td>\n    </tr>\n    <tr>\n      <th>idhm_r</th>\n      <td>idhm_r</td>\n      <td>float64</td>\n      <td>0</td>\n      <td>0.0</td>\n    </tr>\n  </tbody>\n</table>\n<p>237 rows × 4 columns</p>\n</div>"
     },
     "execution_count": 163,
     "metadata": {},
     "output_type": "execute_result"
    }
   ],
   "source": [
    "pd.DataFrame({\n",
    "    'column': df_idh.columns,\n",
    "    'dtype': df_idh.dtypes,\n",
    "    'nulls': df_idh.isnull().sum(),\n",
    "    'null_pct': df_idh.isnull().sum() / df_idh.shape[0]\n",
    "}).sort_values('null_pct', ascending=False)"
   ],
   "metadata": {
    "collapsed": false,
    "pycharm": {
     "name": "#%%\n"
    }
   }
  },
  {
   "cell_type": "code",
   "execution_count": 164,
   "outputs": [],
   "source": [
    "df_idh['codmun7'] = df_idh.codmun7.apply(int).apply(str)"
   ],
   "metadata": {
    "collapsed": false,
    "pycharm": {
     "name": "#%%\n"
    }
   }
  },
  {
   "cell_type": "markdown",
   "source": [
    "# Merge Data"
   ],
   "metadata": {
    "collapsed": false
   }
  },
  {
   "cell_type": "code",
   "execution_count": 165,
   "outputs": [],
   "source": [
    "#rename column codigo_ibge_municipio to cod_ibge\n",
    "df.rename(columns={'codigo_ibge_municipio':'cod_ibge'}, inplace=True)\n",
    "df_idh.rename(columns={'codmun7':'cod_ibge'}, inplace=True)\n"
   ],
   "metadata": {
    "collapsed": false,
    "pycharm": {
     "name": "#%%\n"
    }
   }
  },
  {
   "cell_type": "code",
   "execution_count": 166,
   "outputs": [],
   "source": [
    "df['cod_ibge'] = df.cod_ibge.astype(np.int64)"
   ],
   "metadata": {
    "collapsed": false,
    "pycharm": {
     "name": "#%%\n"
    }
   }
  },
  {
   "cell_type": "code",
   "execution_count": 167,
   "outputs": [],
   "source": [
    "df_idh['cod_ibge'] = df_idh.cod_ibge.astype(np.int64)"
   ],
   "metadata": {
    "collapsed": false,
    "pycharm": {
     "name": "#%%\n"
    }
   }
  },
  {
   "cell_type": "code",
   "execution_count": 168,
   "outputs": [
    {
     "data": {
      "text/plain": "data_publicacao                       object\nrecuperados                           object\ndata_inicio_sintomas                  object\ndata_coleta                           object\nsintomas                              object\ncomorbidades                          object\ngestante                              object\ninternacao                            object\ninternacao_uti                        object\nsexo                                  object\nmunicipio                             object\nobito                                 object\ndata_obito                            object\nidade                                float64\nregional                              object\nraca                                  object\ndata_resultado                        object\ncod_ibge                               int64\nlatitude                             float64\nlongitude                            float64\nestado                                object\ncriterio_confirmacao                  object\ntipo_teste                            object\nmunicipio_notificacao                 object\ncodigo_ibge_municipio_notificacao    float64\nlatitude_notificacao                 float64\nlongitude_notificacao                float64\nclassificacao                         object\norigem_esus                           object\norigem_sivep                          object\norigem_lacen                          object\norigem_laboratorio_privado            object\nnom_laboratorio                       object\nfez_teste_rapido                      object\nfez_pcr                               object\ndata_internacao                       object\ndata_entrada_uti                      object\nregional_saude                        object\ndata_evolucao_caso                    object\ndata_saida_uti                        object\nbairro                                object\ndtype: object"
     },
     "execution_count": 168,
     "metadata": {},
     "output_type": "execute_result"
    }
   ],
   "source": [
    "df.dtypes"
   ],
   "metadata": {
    "collapsed": false,
    "pycharm": {
     "name": "#%%\n"
    }
   }
  },
  {
   "cell_type": "code",
   "execution_count": 169,
   "outputs": [
    {
     "data": {
      "text/plain": "ano              int64\ncodmun6          int64\nuf               int64\ncod_ibge         int64\nmunicípio       object\n                ...   \ni_freq_prop    float64\nidhm           float64\nidhm_e         float64\nidhm_l         float64\nidhm_r         float64\nLength: 237, dtype: object"
     },
     "execution_count": 169,
     "metadata": {},
     "output_type": "execute_result"
    }
   ],
   "source": [
    "df_idh.dtypes"
   ],
   "metadata": {
    "collapsed": false,
    "pycharm": {
     "name": "#%%\n"
    }
   }
  },
  {
   "cell_type": "code",
   "execution_count": 170,
   "outputs": [],
   "source": [
    "df_merge = pd.merge(df, df_idh, on='cod_ibge')"
   ],
   "metadata": {
    "collapsed": false,
    "pycharm": {
     "name": "#%%\n"
    }
   }
  },
  {
   "cell_type": "code",
   "execution_count": 171,
   "outputs": [],
   "source": [
    "del df\n",
    "del df_idh"
   ],
   "metadata": {
    "collapsed": false,
    "pycharm": {
     "name": "#%%\n"
    }
   }
  },
  {
   "cell_type": "code",
   "execution_count": 172,
   "outputs": [
    {
     "data": {
      "text/plain": "(1666760, 277)"
     },
     "execution_count": 172,
     "metadata": {},
     "output_type": "execute_result"
    }
   ],
   "source": [
    "df_merge.shape"
   ],
   "metadata": {
    "collapsed": false,
    "pycharm": {
     "name": "#%%\n"
    }
   }
  },
  {
   "cell_type": "code",
   "execution_count": 173,
   "outputs": [
    {
     "data": {
      "text/plain": "       data_publicacao recuperados data_inicio_sintomas data_coleta  \\\n0  2022-03-28 16:00:08         SIM           2022-02-22    IGNORADO   \n1  2022-03-28 16:00:08         SIM           2020-11-09  2020-11-13   \n2  2022-03-28 16:00:08         SIM           2021-01-18  2021-01-27   \n3  2022-03-28 16:00:08         SIM           2022-01-06  2022-01-11   \n4  2022-03-28 16:00:08         SIM           2020-07-07  2020-07-08   \n\n                        sintomas comorbidades gestante     internacao  \\\n0                          FEBRE          NaN      NaN  NAO INTERNADO   \n1                          TOSSE          NaN      NaN  NAO INTERNADO   \n2                            NaN          NaN      NaN  NAO INTERNADO   \n3                   TOSSE, FEBRE          NaN      NaN  NAO INTERNADO   \n4  TOSSE, DOR DE GARGANTA, FEBRE          NaN      NaN  NAO INTERNADO   \n\n      internacao_uti       sexo  ...  pia1517    pia18m     pop    popt  \\\n0  NAO INTERNADO UTI  MASCULINO  ...  14840.0  232830.0  306393  306361   \n1  NAO INTERNADO UTI   FEMININO  ...  14840.0  232830.0  306393  306361   \n2  NAO INTERNADO UTI   FEMININO  ...  14840.0  232830.0  306393  306361   \n3  NAO INTERNADO UTI   FEMININO  ...  14840.0  232830.0  306393  306361   \n4  NAO INTERNADO UTI   FEMININO  ...  14840.0  232830.0  306393  306361   \n\n  i_escolaridade i_freq_prop   idhm  idhm_e  idhm_l  idhm_r  \n0          0.659       0.756  0.806   0.722   0.894   0.812  \n1          0.659       0.756  0.806   0.722   0.894   0.812  \n2          0.659       0.756  0.806   0.722   0.894   0.812  \n3          0.659       0.756  0.806   0.722   0.894   0.812  \n4          0.659       0.756  0.806   0.722   0.894   0.812  \n\n[5 rows x 277 columns]",
      "text/html": "<div>\n<style scoped>\n    .dataframe tbody tr th:only-of-type {\n        vertical-align: middle;\n    }\n\n    .dataframe tbody tr th {\n        vertical-align: top;\n    }\n\n    .dataframe thead th {\n        text-align: right;\n    }\n</style>\n<table border=\"1\" class=\"dataframe\">\n  <thead>\n    <tr style=\"text-align: right;\">\n      <th></th>\n      <th>data_publicacao</th>\n      <th>recuperados</th>\n      <th>data_inicio_sintomas</th>\n      <th>data_coleta</th>\n      <th>sintomas</th>\n      <th>comorbidades</th>\n      <th>gestante</th>\n      <th>internacao</th>\n      <th>internacao_uti</th>\n      <th>sexo</th>\n      <th>...</th>\n      <th>pia1517</th>\n      <th>pia18m</th>\n      <th>pop</th>\n      <th>popt</th>\n      <th>i_escolaridade</th>\n      <th>i_freq_prop</th>\n      <th>idhm</th>\n      <th>idhm_e</th>\n      <th>idhm_l</th>\n      <th>idhm_r</th>\n    </tr>\n  </thead>\n  <tbody>\n    <tr>\n      <th>0</th>\n      <td>2022-03-28 16:00:08</td>\n      <td>SIM</td>\n      <td>2022-02-22</td>\n      <td>IGNORADO</td>\n      <td>FEBRE</td>\n      <td>NaN</td>\n      <td>NaN</td>\n      <td>NAO INTERNADO</td>\n      <td>NAO INTERNADO UTI</td>\n      <td>MASCULINO</td>\n      <td>...</td>\n      <td>14840.0</td>\n      <td>232830.0</td>\n      <td>306393</td>\n      <td>306361</td>\n      <td>0.659</td>\n      <td>0.756</td>\n      <td>0.806</td>\n      <td>0.722</td>\n      <td>0.894</td>\n      <td>0.812</td>\n    </tr>\n    <tr>\n      <th>1</th>\n      <td>2022-03-28 16:00:08</td>\n      <td>SIM</td>\n      <td>2020-11-09</td>\n      <td>2020-11-13</td>\n      <td>TOSSE</td>\n      <td>NaN</td>\n      <td>NaN</td>\n      <td>NAO INTERNADO</td>\n      <td>NAO INTERNADO UTI</td>\n      <td>FEMININO</td>\n      <td>...</td>\n      <td>14840.0</td>\n      <td>232830.0</td>\n      <td>306393</td>\n      <td>306361</td>\n      <td>0.659</td>\n      <td>0.756</td>\n      <td>0.806</td>\n      <td>0.722</td>\n      <td>0.894</td>\n      <td>0.812</td>\n    </tr>\n    <tr>\n      <th>2</th>\n      <td>2022-03-28 16:00:08</td>\n      <td>SIM</td>\n      <td>2021-01-18</td>\n      <td>2021-01-27</td>\n      <td>NaN</td>\n      <td>NaN</td>\n      <td>NaN</td>\n      <td>NAO INTERNADO</td>\n      <td>NAO INTERNADO UTI</td>\n      <td>FEMININO</td>\n      <td>...</td>\n      <td>14840.0</td>\n      <td>232830.0</td>\n      <td>306393</td>\n      <td>306361</td>\n      <td>0.659</td>\n      <td>0.756</td>\n      <td>0.806</td>\n      <td>0.722</td>\n      <td>0.894</td>\n      <td>0.812</td>\n    </tr>\n    <tr>\n      <th>3</th>\n      <td>2022-03-28 16:00:08</td>\n      <td>SIM</td>\n      <td>2022-01-06</td>\n      <td>2022-01-11</td>\n      <td>TOSSE, FEBRE</td>\n      <td>NaN</td>\n      <td>NaN</td>\n      <td>NAO INTERNADO</td>\n      <td>NAO INTERNADO UTI</td>\n      <td>FEMININO</td>\n      <td>...</td>\n      <td>14840.0</td>\n      <td>232830.0</td>\n      <td>306393</td>\n      <td>306361</td>\n      <td>0.659</td>\n      <td>0.756</td>\n      <td>0.806</td>\n      <td>0.722</td>\n      <td>0.894</td>\n      <td>0.812</td>\n    </tr>\n    <tr>\n      <th>4</th>\n      <td>2022-03-28 16:00:08</td>\n      <td>SIM</td>\n      <td>2020-07-07</td>\n      <td>2020-07-08</td>\n      <td>TOSSE, DOR DE GARGANTA, FEBRE</td>\n      <td>NaN</td>\n      <td>NaN</td>\n      <td>NAO INTERNADO</td>\n      <td>NAO INTERNADO UTI</td>\n      <td>FEMININO</td>\n      <td>...</td>\n      <td>14840.0</td>\n      <td>232830.0</td>\n      <td>306393</td>\n      <td>306361</td>\n      <td>0.659</td>\n      <td>0.756</td>\n      <td>0.806</td>\n      <td>0.722</td>\n      <td>0.894</td>\n      <td>0.812</td>\n    </tr>\n  </tbody>\n</table>\n<p>5 rows × 277 columns</p>\n</div>"
     },
     "execution_count": 173,
     "metadata": {},
     "output_type": "execute_result"
    }
   ],
   "source": [
    "df_merge.head()"
   ],
   "metadata": {
    "collapsed": false,
    "pycharm": {
     "name": "#%%\n"
    }
   }
  },
  {
   "cell_type": "code",
   "execution_count": 174,
   "outputs": [],
   "source": [
    "df_merge.to_csv('../output/01_covid_idh.csv', index=False)"
   ],
   "metadata": {
    "collapsed": false,
    "pycharm": {
     "name": "#%%\n"
    }
   }
  }
 ],
 "metadata": {
  "kernelspec": {
   "display_name": "Python 3",
   "language": "python",
   "name": "python3"
  },
  "language_info": {
   "codemirror_mode": {
    "name": "ipython",
    "version": 2
   },
   "file_extension": ".py",
   "mimetype": "text/x-python",
   "name": "python",
   "nbconvert_exporter": "python",
   "pygments_lexer": "ipython2",
   "version": "2.7.6"
  }
 },
 "nbformat": 4,
 "nbformat_minor": 0
}